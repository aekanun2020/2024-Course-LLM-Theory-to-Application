{
 "cells": [
  {
   "cell_type": "code",
   "execution_count": null,
   "id": "84f8cae1-3535-4ad1-977e-a4c1decbc90d",
   "metadata": {},
   "outputs": [],
   "source": [
    "#! wget https://huggingface.co/openthaigpt/openthaigpt-1.0.0-7b-chat/resolve/main/openthaigpt-Q4_K_M.gguf"
   ]
  },
  {
   "cell_type": "code",
   "execution_count": 1,
   "id": "f5f3c8d2-9df1-4aab-8543-9fa5b724fa75",
   "metadata": {},
   "outputs": [
    {
     "name": "stdout",
     "output_type": "stream",
     "text": [
      "/Users/grizzlystudio/RAG-with-Ollama\n"
     ]
    }
   ],
   "source": [
    "! pwd"
   ]
  },
  {
   "cell_type": "code",
   "execution_count": 2,
   "id": "7e35afe6-68ae-4734-9110-e20d6494b3f2",
   "metadata": {},
   "outputs": [
    {
     "name": "stdout",
     "output_type": "stream",
     "text": [
      "total 8094120\n",
      "-rw-r--r--  1 grizzlystudio  staff  4132760544 Apr  8 13:26 openthaigpt-Q4_K_M.gguf\n",
      "-rw-------@ 1 grizzlystudio  staff       22651 Jul 27 18:17 openthaigpt-on-ollama.ipynb\n"
     ]
    }
   ],
   "source": [
    "! ls -l"
   ]
  },
  {
   "cell_type": "code",
   "execution_count": 3,
   "id": "cda92f14-ae95-419d-a63b-c3c81a69ccda",
   "metadata": {},
   "outputs": [
    {
     "name": "stdout",
     "output_type": "stream",
     "text": [
      "Writing Modelfile\n"
     ]
    }
   ],
   "source": [
    "%%writefile Modelfile\n",
    "FROM /Users/grizzlystudio/RAG-with-Ollama/openthaigpt-Q4_K_M.gguf"
   ]
  },
  {
   "cell_type": "code",
   "execution_count": 4,
   "id": "1c22b890-2960-4c86-acba-ad82b6c7ed97",
   "metadata": {},
   "outputs": [
    {
     "name": "stdout",
     "output_type": "stream",
     "text": [
      "-rw-r--r--  1 grizzlystudio  staff  66 Jul 27 18:17 Modelfile\n"
     ]
    }
   ],
   "source": [
    "! ls -l Modelfile"
   ]
  },
  {
   "cell_type": "code",
   "execution_count": 5,
   "id": "9cb8568b-1d1d-4e22-827f-1ed7b1104b63",
   "metadata": {},
   "outputs": [
    {
     "name": "stdout",
     "output_type": "stream",
     "text": [
      "FROM /Users/grizzlystudio/RAG-with-Ollama/openthaigpt-Q4_K_M.gguf\n"
     ]
    }
   ],
   "source": [
    "! cat Modelfile"
   ]
  },
  {
   "cell_type": "code",
   "execution_count": 6,
   "id": "659518dd-5b5a-4fb8-a52e-ffd1b7401e12",
   "metadata": {},
   "outputs": [
    {
     "name": "stdout",
     "output_type": "stream",
     "text": [
      "\u001b[?25ltransferring model data ⠙ \u001b[?25h\u001b[?25l\u001b[2K\u001b[1Gtransferring model data ⠙ \u001b[?25h\u001b[?25l\u001b[2K\u001b[1Gtransferring model data ⠹ \u001b[?25h\u001b[?25l\u001b[2K\u001b[1Gtransferring model data ⠼ \u001b[?25h\u001b[?25l\u001b[2K\u001b[1Gtransferring model data ⠴ \u001b[?25h\u001b[?25l\u001b[2K\u001b[1Gtransferring model data ⠴ \u001b[?25h\u001b[?25l\u001b[2K\u001b[1Gtransferring model data ⠧ \u001b[?25h\u001b[?25l\u001b[2K\u001b[1Gtransferring model data ⠇ \u001b[?25h\u001b[?25l\u001b[2K\u001b[1Gtransferring model data ⠏ \u001b[?25h\u001b[?25l\u001b[2K\u001b[1Gtransferring model data ⠏ \u001b[?25h\u001b[?25l\u001b[2K\u001b[1Gtransferring model data ⠙ \u001b[?25h\u001b[?25l\u001b[2K\u001b[1Gtransferring model data ⠹ \u001b[?25h\u001b[?25l\u001b[2K\u001b[1Gtransferring model data ⠸ \u001b[?25h\u001b[?25l\u001b[2K\u001b[1Gtransferring model data ⠼ \u001b[?25h\u001b[?25l\u001b[2K\u001b[1Gtransferring model data ⠼ \u001b[?25h\u001b[?25l\u001b[2K\u001b[1Gtransferring model data ⠦ \u001b[?25h\u001b[?25l\u001b[2K\u001b[1Gtransferring model data ⠦ \u001b[?25h\u001b[?25l\u001b[2K\u001b[1Gtransferring model data ⠧ \u001b[?25h\u001b[?25l\u001b[2K\u001b[1Gtransferring model data ⠏ \u001b[?25h\u001b[?25l\u001b[2K\u001b[1Gtransferring model data ⠏ \u001b[?25h\u001b[?25l\u001b[2K\u001b[1Gtransferring model data ⠋ \u001b[?25h\u001b[?25l\u001b[2K\u001b[1Gtransferring model data ⠙ \u001b[?25h\u001b[?25l\u001b[2K\u001b[1Gtransferring model data ⠸ \u001b[?25h\u001b[?25l\u001b[2K\u001b[1Gtransferring model data ⠼ \u001b[?25h\u001b[?25l\u001b[2K\u001b[1Gtransferring model data ⠴ \u001b[?25h\u001b[?25l\u001b[2K\u001b[1Gtransferring model data ⠴ \u001b[?25h\u001b[?25l\u001b[2K\u001b[1Gtransferring model data ⠦ \u001b[?25h\u001b[?25l\u001b[2K\u001b[1Gtransferring model data ⠧ \u001b[?25h\u001b[?25l\u001b[2K\u001b[1Gtransferring model data ⠇ \u001b[?25h\u001b[?25l\u001b[2K\u001b[1Gtransferring model data ⠏ \u001b[?25h\u001b[?25l\u001b[2K\u001b[1Gtransferring model data ⠋ \u001b[?25h\u001b[?25l\u001b[2K\u001b[1Gtransferring model data ⠙ \u001b[?25h\u001b[?25l\u001b[2K\u001b[1Gtransferring model data ⠹ \u001b[?25h\u001b[?25l\u001b[2K\u001b[1Gtransferring model data ⠸ \u001b[?25h\u001b[?25l\u001b[2K\u001b[1Gtransferring model data ⠼ \u001b[?25h\u001b[?25l\u001b[2K\u001b[1Gtransferring model data ⠦ \u001b[?25h\u001b[?25l\u001b[2K\u001b[1Gtransferring model data ⠦ \u001b[?25h\u001b[?25l\u001b[2K\u001b[1Gtransferring model data ⠧ \u001b[?25h\u001b[?25l\u001b[2K\u001b[1Gtransferring model data ⠇ \u001b[?25h\u001b[?25l\u001b[2K\u001b[1Gtransferring model data ⠋ \u001b[?25h\u001b[?25l\u001b[2K\u001b[1Gtransferring model data ⠋ \u001b[?25h\u001b[?25l\u001b[2K\u001b[1Gtransferring model data ⠙ \u001b[?25h\u001b[?25l\u001b[2K\u001b[1Gtransferring model data ⠹ \u001b[?25h\u001b[?25l\u001b[2K\u001b[1Gtransferring model data ⠸ \u001b[?25h\u001b[?25l\u001b[2K\u001b[1Gtransferring model data ⠼ \u001b[?25h\u001b[?25l\u001b[2K\u001b[1Gtransferring model data ⠴ \u001b[?25h\u001b[?25l\u001b[2K\u001b[1Gtransferring model data ⠦ \u001b[?25h\u001b[?25l\u001b[2K\u001b[1Gtransferring model data ⠇ \u001b[?25h\u001b[?25l\u001b[2K\u001b[1Gtransferring model data ⠇ \u001b[?25h\u001b[?25l\u001b[2K\u001b[1Gtransferring model data ⠏ \u001b[?25h\u001b[?25l\u001b[2K\u001b[1Gtransferring model data ⠋ \u001b[?25h\u001b[?25l\u001b[2K\u001b[1Gtransferring model data ⠙ \u001b[?25h\u001b[?25l\u001b[2K\u001b[1Gtransferring model data ⠹ \u001b[?25h\u001b[?25l\u001b[2K\u001b[1Gtransferring model data ⠸ \u001b[?25h\u001b[?25l\u001b[2K\u001b[1Gtransferring model data ⠼ \u001b[?25h\u001b[?25l\u001b[2K\u001b[1Gtransferring model data ⠴ \u001b[?25h\u001b[?25l\u001b[2K\u001b[1Gtransferring model data ⠦ \u001b[?25h\u001b[?25l\u001b[2K\u001b[1Gtransferring model data ⠧ \u001b[?25h\u001b[?25l\u001b[2K\u001b[1Gtransferring model data ⠇ \u001b[?25h\u001b[?25l\u001b[2K\u001b[1Gtransferring model data ⠏ \u001b[?25h\u001b[?25l\u001b[2K\u001b[1Gtransferring model data ⠋ \u001b[?25h\u001b[?25l\u001b[2K\u001b[1Gtransferring model data ⠙ \u001b[?25h\u001b[?25l\u001b[2K\u001b[1Gtransferring model data ⠹ \u001b[?25h\u001b[?25l\u001b[2K\u001b[1Gtransferring model data ⠸ \u001b[?25h\u001b[?25l\u001b[2K\u001b[1Gtransferring model data ⠴ \u001b[?25h\u001b[?25l\u001b[2K\u001b[1Gtransferring model data ⠴ \u001b[?25h\u001b[?25l\u001b[2K\u001b[1Gtransferring model data ⠦ \u001b[?25h\u001b[?25l\u001b[2K\u001b[1Gtransferring model data ⠧ \u001b[?25h\u001b[?25l\u001b[2K\u001b[1Gtransferring model data ⠏ \u001b[?25h\u001b[?25l\u001b[2K\u001b[1Gtransferring model data ⠏ \u001b[?25h\u001b[?25l\u001b[2K\u001b[1Gtransferring model data ⠋ \u001b[?25h\u001b[?25l\u001b[2K\u001b[1Gtransferring model data ⠹ \u001b[?25h\u001b[?25l\u001b[2K\u001b[1Gtransferring model data ⠸ \u001b[?25h\u001b[?25l\u001b[2K\u001b[1Gtransferring model data ⠼ \u001b[?25h\u001b[?25l\u001b[2K\u001b[1Gtransferring model data ⠴ \u001b[?25h\u001b[?25l\u001b[2K\u001b[1Gtransferring model data ⠦ \u001b[?25h\u001b[?25l\u001b[2K\u001b[1Gtransferring model data ⠦ \u001b[?25h\u001b[?25l\u001b[2K\u001b[1Gtransferring model data ⠧ \u001b[?25h\u001b[?25l\u001b[2K\u001b[1Gtransferring model data ⠇ \u001b[?25h\u001b[?25l\u001b[2K\u001b[1Gtransferring model data ⠏ \u001b[?25h\u001b[?25l\u001b[2K\u001b[1Gtransferring model data ⠋ \u001b[?25h\u001b[?25l\u001b[2K\u001b[1Gtransferring model data ⠙ \u001b[?25h\u001b[?25l\u001b[2K\u001b[1Gtransferring model data ⠸ \u001b[?25h\u001b[?25l\u001b[2K\u001b[1Gtransferring model data ⠸ \u001b[?25h\u001b[?25l\u001b[2K\u001b[1Gtransferring model data ⠴ \u001b[?25h\u001b[?25l\u001b[2K\u001b[1Gtransferring model data ⠴ \u001b[?25h\u001b[?25l\u001b[2K\u001b[1Gtransferring model data ⠦ \u001b[?25h\u001b[?25l\u001b[2K\u001b[1Gtransferring model data ⠧ \u001b[?25h\u001b[?25l\u001b[2K\u001b[1Gtransferring model data ⠇ \u001b[?25h\u001b[?25l\u001b[2K\u001b[1Gtransferring model data ⠏ \u001b[?25h\u001b[?25l\u001b[2K\u001b[1Gtransferring model data ⠋ \u001b[?25h\u001b[?25l\u001b[2K\u001b[1Gtransferring model data ⠙ \u001b[?25h\u001b[?25l\u001b[2K\u001b[1Gtransferring model data ⠸ \u001b[?25h\u001b[?25l\u001b[2K\u001b[1Gtransferring model data ⠼ \u001b[?25h\u001b[?25l\u001b[2K\u001b[1Gtransferring model data ⠼ \u001b[?25h\u001b[?25l\u001b[2K\u001b[1Gtransferring model data ⠴ \u001b[?25h\u001b[?25l\u001b[2K\u001b[1Gtransferring model data ⠦ \u001b[?25h\u001b[?25l\u001b[2K\u001b[1Gtransferring model data \n",
      "using existing layer sha256:7c9fe7f5dfb4adaac2211b8159297d3689abb9c94259a9e8b75a86348cf6fdda \n",
      "creating new layer sha256:0fb28591e6b58531b33b2b2fa7ad8f834c33cbdb1e7d81d1a294c7149dc838ec \n",
      "writing manifest \n",
      "success \u001b[?25h\n"
     ]
    }
   ],
   "source": [
    "! ollama create openthaigpt -f Modelfile"
   ]
  },
  {
   "cell_type": "code",
   "execution_count": 7,
   "id": "b9d40aed-1c9c-4e4b-9114-2d7a9ea85041",
   "metadata": {},
   "outputs": [],
   "source": [
    "##! rm -rf Modelfile"
   ]
  },
  {
   "cell_type": "code",
   "execution_count": 8,
   "id": "8022d554-437f-4829-a2c0-48982abccf19",
   "metadata": {},
   "outputs": [
    {
     "name": "stdout",
     "output_type": "stream",
     "text": [
      "NAME              \tID          \tSIZE  \tMODIFIED               \n",
      "openthaigpt:latest\te242a9902d99\t4.1 GB\tLess than a second ago\t\n"
     ]
    }
   ],
   "source": [
    "! ollama list"
   ]
  },
  {
   "cell_type": "code",
   "execution_count": 9,
   "id": "bc915518-15fd-4f7c-af81-c3aae892848a",
   "metadata": {},
   "outputs": [
    {
     "name": "stdout",
     "output_type": "stream",
     "text": [
      "{\"model\":\"openthaigpt\",\"created_at\":\"2024-07-27T11:18:09.821088Z\",\"response\":\" [/INST]ท้องฟ้าปรากฏเป็นสีฟ้าเนื่องจากปรากฏการณ์ที่เรียกว่าการกระเจิงของเรย์ลี สิ่งนี้เกิดขึ้นเมื่อแสงแดดส่องถึงชั้นบรรยากาศโลกและกระจัดกระจายไปทุกทิศทางโดยก๊าซและอนุภาคในอากาศ กระบวนการนี้ทำให้แสงสีน้ำเงินโค้งงอในทิศทางที่แตกต่างจากสีอื่นๆ ทำให้ท้องฟ้าปรากฏเป็นสีฟ้า สีของท้องฟ้าจะแตกต่างกันไปตามเงื่อนไขต่างๆ เช่น ตำแหน่งของดวงอาทิตย์ และระดับฝุ่นหรือหยดน้ำในบรรยากาศ\",\"done\":true,\"done_reason\":\"stop\",\"context\":[3750,338,278,14744,7254,29973,518,29914,25580,29962,40823,33693,32810,33201,33517,34639,38256,35805,32800,33012,32910,32924,32820,38853,34004,35390,32919,33971,33062,34261,39207,39405,32963,33492,37921,33193,32813,34329,32854,34877,32883,33450,37789,32868,38137,32813,37698,32803,33442,40157,32919,30595,30747,32858,34261,33201,30348,30652,30747,33416,36812,30398,30351,32803,37789,32799,37981,33201,34519,33212,30747,32858,40823,33693,32810,33201,33517,34943,32820,40823,32874,35478,35127,36622,33898,33349,32923,30747,33363,32820,34532,32890,33399,30618,32965,32835,33398,37537,32937,33830,33284,30652,30747,32803,37921],\"total_duration\":9329311584,\"load_duration\":6825948792,\"prompt_eval_count\":7,\"prompt_eval_duration\":126415000,\"eval_count\":100,\"eval_duration\":2375435000}"
     ]
    }
   ],
   "source": [
    "! curl http://localhost:11434/api/generate -d '{ \\\n",
    "  \"model\": \"openthaigpt\", \\\n",
    "  \"prompt\":\"Why is the sky blue?\", \\\n",
    "  \"stream\":false \\\n",
    "}'"
   ]
  },
  {
   "cell_type": "code",
   "execution_count": 10,
   "id": "0902d659-1515-4840-89f1-178369684fe7",
   "metadata": {},
   "outputs": [
    {
     "name": "stdout",
     "output_type": "stream",
     "text": [
      "{\"model\":\"openthaigpt\",\"created_at\":\"2024-07-27T11:18:14.312003Z\",\"response\":\" [/INST]หากคุณถูกสุนัขกัด ให้ทำตามขั้นตอนเหล่านี้เพื่อป้องกันการติดเชื้อและรักษาความสะอาด 1. ล้างแผล: ล้างแผลเบาๆ ด้วยน้ำอุ่นและสบู่ ซึ่งจะช่วยป้องกันการติดเชื้อแบคทีเรีย 2. ปิดแผล: ปิดแผลด้วยผ้าสะอาดหรือพลาสเตอร์ป้องกันเชื้อเพื่อป้องกันไม่ให้สิ่งสกปรกเข้า 3. รับประทานยา: หากคุณมีอาการบวม ให้รับประทานยาต้านการอักเสบ เช่น ไอบูโพรเฟนตามคำแนะนำบนบรรจุภัณฑ์ 4. รักษาความสะอาด: ล้างแผลทุกวันด้วยสบู่และน้ำอุ่น 5. ปิดบริเวณนั้น: ปิดบริเวณนั้นด้วยผ้าพันแผลปลอดเชื้อหรือพลาสเตอร์ 6. รักษาร่างกายให้ชุ่มชื้น: ดื่มน้ำปริมาณมากเพื่อให้ร่างกายไม่ขาดน้ำ\",\"done\":true,\"done_reason\":\"stop\",\"context\":[34615,38700,33905,34923,30595,30747,37807,29973,518,29914,25580,29962,34488,33598,33019,38700,33905,33549,30595,30747,33032,36755,34522,33081,39277,35389,32813,39302,37745,29871,29896,29889,33157,32929,38821,29901,33157,32929,38821,37228,41042,33796,30348,30652,30747,38395,32813,38295,32885,36703,33418,39277,35389,38513,29871,29906,29889,33161,32875,38821,29901,33161,32875,38821,32951,34841,37745,32937,38344,33323,34198,33874,33081,34198,36824,33568,35455,33049,30425,33048,29871,29941,29889,34584,35649,33110,29901,34922,33598,32824,34489,30526,33069,33549,37457,33110,34521,32800,38170,33349,36147,33662,37403,40760,33032,30759,30747,35202,30348,30747,33286,35727,34496,29871,29946,29889,40796,32871,37745,29901,33157,32929,38821,36404,32951,38295,32885,32813,30348,30652,30747,38395,29871,29945,29889,33161,32875,33621,32972,29901,33161,32875,33621,32972,32951,34841,34369,38821,35105,33874,32937,38344,33323,29871,29953,29889,40796,35100,32858,30913,33140,38588,29901,33105,31422,32925,30348,30652,30747,35489,33006,35351,35100,32908,34540,30348,30652,30747],\"total_duration\":4329092375,\"load_duration\":21611458,\"prompt_eval_count\":9,\"prompt_eval_duration\":147695000,\"eval_count\":171,\"eval_duration\":4157616000}"
     ]
    }
   ],
   "source": [
    "! curl http://localhost:11434/api/generate -d '{ \\\n",
    "  \"model\": \"openthaigpt\", \\\n",
    "  \"prompt\":\"ถูกสุนัขกัด ต้องทำอย่างไร?\", \\\n",
    "  \"stream\":false \\\n",
    "}'"
   ]
  },
  {
   "cell_type": "code",
   "execution_count": 11,
   "id": "63b4ee5a-9fbd-4eec-ae9c-f8a1f8b631c0",
   "metadata": {},
   "outputs": [
    {
     "name": "stdout",
     "output_type": "stream",
     "text": [
      "{\"model\":\"openthaigpt\",\"created_at\":\"2024-07-27T11:18:14.786009Z\",\"response\":\"และวิธีที่ร่างกายต่อต้านเซลล์มะเร็ง\",\"done\":true,\"done_reason\":\"stop\",\"context\":[39582,35413,33673,33859,34272,33756,38331,38246,32852,30507,32925,33180,32813,33805,32799,35100,34997,34717,38331],\"total_duration\":316959625,\"load_duration\":18515625,\"prompt_eval_count\":13,\"prompt_eval_duration\":123050000,\"eval_count\":8,\"eval_duration\":173224000}"
     ]
    }
   ],
   "source": [
    "! curl http://localhost:11434/api/generate -d '{ \\\n",
    "  \"model\": \"openthaigpt\", \\\n",
    "  \"prompt\":\"โปรดอธิบายลักษณะช่องปากที่เป็นมะเร็งในระยะเริ่มต้น\", \\\n",
    "  \"stream\":false \\\n",
    "}'"
   ]
  },
  {
   "cell_type": "code",
   "execution_count": null,
   "id": "55cf694d-97a6-4ba0-a905-46170bd7ba7a",
   "metadata": {},
   "outputs": [],
   "source": []
  }
 ],
 "metadata": {
  "kernelspec": {
   "display_name": "Python 3 (ipykernel)",
   "language": "python",
   "name": "python3"
  },
  "language_info": {
   "codemirror_mode": {
    "name": "ipython",
    "version": 3
   },
   "file_extension": ".py",
   "mimetype": "text/x-python",
   "name": "python",
   "nbconvert_exporter": "python",
   "pygments_lexer": "ipython3",
   "version": "3.10.12"
  }
 },
 "nbformat": 4,
 "nbformat_minor": 5
}
