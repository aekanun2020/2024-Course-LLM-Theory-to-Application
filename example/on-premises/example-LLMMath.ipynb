{
 "cells": [
  {
   "cell_type": "code",
   "execution_count": 1,
   "id": "bd69a582-06d9-4a30-a01d-16c8cf74321c",
   "metadata": {},
   "outputs": [],
   "source": [
    "%%capture\n",
    "%pip install accelerate peft bitsandbytes transformers trl\n",
    "import warnings\n",
    "warnings.filterwarnings('ignore')"
   ]
  },
  {
   "cell_type": "code",
   "execution_count": 2,
   "id": "d00720a1-a6da-40cd-8599-f663b87665f5",
   "metadata": {},
   "outputs": [
    {
     "name": "stdout",
     "output_type": "stream",
     "text": [
      "Requirement already satisfied: langchain_community in /home/ntadmin/ntadminenv/lib/python3.10/site-packages (0.2.5)\n",
      "Requirement already satisfied: SQLAlchemy<3,>=1.4 in /home/ntadmin/ntadminenv/lib/python3.10/site-packages (from langchain_community) (2.0.30)\n",
      "Requirement already satisfied: PyYAML>=5.3 in /home/ntadmin/ntadminenv/lib/python3.10/site-packages (from langchain_community) (6.0.1)\n",
      "Requirement already satisfied: langchain<0.3.0,>=0.2.5 in /home/ntadmin/ntadminenv/lib/python3.10/site-packages (from langchain_community) (0.2.5)\n",
      "Requirement already satisfied: langsmith<0.2.0,>=0.1.0 in /home/ntadmin/ntadminenv/lib/python3.10/site-packages (from langchain_community) (0.1.77)\n",
      "Requirement already satisfied: numpy<2,>=1 in /home/ntadmin/ntadminenv/lib/python3.10/site-packages (from langchain_community) (1.26.4)\n",
      "Requirement already satisfied: langchain-core<0.3.0,>=0.2.7 in /home/ntadmin/ntadminenv/lib/python3.10/site-packages (from langchain_community) (0.2.7)\n",
      "Requirement already satisfied: aiohttp<4.0.0,>=3.8.3 in /home/ntadmin/ntadminenv/lib/python3.10/site-packages (from langchain_community) (3.9.5)\n",
      "Requirement already satisfied: dataclasses-json<0.7,>=0.5.7 in /home/ntadmin/ntadminenv/lib/python3.10/site-packages (from langchain_community) (0.6.7)\n",
      "Requirement already satisfied: requests<3,>=2 in /home/ntadmin/ntadminenv/lib/python3.10/site-packages (from langchain_community) (2.32.3)\n",
      "Requirement already satisfied: tenacity<9.0.0,>=8.1.0 in /home/ntadmin/ntadminenv/lib/python3.10/site-packages (from langchain_community) (8.4.1)\n",
      "Requirement already satisfied: async-timeout<5.0,>=4.0 in /home/ntadmin/ntadminenv/lib/python3.10/site-packages (from aiohttp<4.0.0,>=3.8.3->langchain_community) (4.0.3)\n",
      "Requirement already satisfied: attrs>=17.3.0 in /home/ntadmin/ntadminenv/lib/python3.10/site-packages (from aiohttp<4.0.0,>=3.8.3->langchain_community) (23.2.0)\n",
      "Requirement already satisfied: aiosignal>=1.1.2 in /home/ntadmin/ntadminenv/lib/python3.10/site-packages (from aiohttp<4.0.0,>=3.8.3->langchain_community) (1.3.1)\n",
      "Requirement already satisfied: frozenlist>=1.1.1 in /home/ntadmin/ntadminenv/lib/python3.10/site-packages (from aiohttp<4.0.0,>=3.8.3->langchain_community) (1.4.1)\n",
      "Requirement already satisfied: multidict<7.0,>=4.5 in /home/ntadmin/ntadminenv/lib/python3.10/site-packages (from aiohttp<4.0.0,>=3.8.3->langchain_community) (6.0.5)\n",
      "Requirement already satisfied: yarl<2.0,>=1.0 in /home/ntadmin/ntadminenv/lib/python3.10/site-packages (from aiohttp<4.0.0,>=3.8.3->langchain_community) (1.9.4)\n",
      "Requirement already satisfied: typing-inspect<1,>=0.4.0 in /home/ntadmin/ntadminenv/lib/python3.10/site-packages (from dataclasses-json<0.7,>=0.5.7->langchain_community) (0.9.0)\n",
      "Requirement already satisfied: marshmallow<4.0.0,>=3.18.0 in /home/ntadmin/ntadminenv/lib/python3.10/site-packages (from dataclasses-json<0.7,>=0.5.7->langchain_community) (3.21.3)\n",
      "Requirement already satisfied: pydantic<3,>=1 in /home/ntadmin/ntadminenv/lib/python3.10/site-packages (from langchain<0.3.0,>=0.2.5->langchain_community) (2.7.4)\n",
      "Requirement already satisfied: langchain-text-splitters<0.3.0,>=0.2.0 in /home/ntadmin/ntadminenv/lib/python3.10/site-packages (from langchain<0.3.0,>=0.2.5->langchain_community) (0.2.1)\n",
      "Requirement already satisfied: packaging<25,>=23.2 in /home/ntadmin/ntadminenv/lib/python3.10/site-packages (from langchain-core<0.3.0,>=0.2.7->langchain_community) (24.1)\n",
      "Requirement already satisfied: jsonpatch<2.0,>=1.33 in /home/ntadmin/ntadminenv/lib/python3.10/site-packages (from langchain-core<0.3.0,>=0.2.7->langchain_community) (1.33)\n",
      "Requirement already satisfied: orjson<4.0.0,>=3.9.14 in /home/ntadmin/ntadminenv/lib/python3.10/site-packages (from langsmith<0.2.0,>=0.1.0->langchain_community) (3.10.5)\n",
      "Requirement already satisfied: certifi>=2017.4.17 in /home/ntadmin/ntadminenv/lib/python3.10/site-packages (from requests<3,>=2->langchain_community) (2024.6.2)\n",
      "Requirement already satisfied: urllib3<3,>=1.21.1 in /home/ntadmin/ntadminenv/lib/python3.10/site-packages (from requests<3,>=2->langchain_community) (2.2.1)\n",
      "Requirement already satisfied: charset-normalizer<4,>=2 in /home/ntadmin/ntadminenv/lib/python3.10/site-packages (from requests<3,>=2->langchain_community) (3.3.2)\n",
      "Requirement already satisfied: idna<4,>=2.5 in /home/ntadmin/ntadminenv/lib/python3.10/site-packages (from requests<3,>=2->langchain_community) (3.7)\n",
      "Requirement already satisfied: typing-extensions>=4.6.0 in /home/ntadmin/ntadminenv/lib/python3.10/site-packages (from SQLAlchemy<3,>=1.4->langchain_community) (4.12.2)\n",
      "Requirement already satisfied: greenlet!=0.4.17 in /home/ntadmin/ntadminenv/lib/python3.10/site-packages (from SQLAlchemy<3,>=1.4->langchain_community) (3.0.3)\n",
      "Requirement already satisfied: jsonpointer>=1.9 in /home/ntadmin/ntadminenv/lib/python3.10/site-packages (from jsonpatch<2.0,>=1.33->langchain-core<0.3.0,>=0.2.7->langchain_community) (3.0.0)\n",
      "Requirement already satisfied: annotated-types>=0.4.0 in /home/ntadmin/ntadminenv/lib/python3.10/site-packages (from pydantic<3,>=1->langchain<0.3.0,>=0.2.5->langchain_community) (0.7.0)\n",
      "Requirement already satisfied: pydantic-core==2.18.4 in /home/ntadmin/ntadminenv/lib/python3.10/site-packages (from pydantic<3,>=1->langchain<0.3.0,>=0.2.5->langchain_community) (2.18.4)\n",
      "Requirement already satisfied: mypy-extensions>=0.3.0 in /home/ntadmin/ntadminenv/lib/python3.10/site-packages (from typing-inspect<1,>=0.4.0->dataclasses-json<0.7,>=0.5.7->langchain_community) (1.0.0)\n"
     ]
    }
   ],
   "source": [
    "! pip install langchain_community"
   ]
  },
  {
   "cell_type": "code",
   "execution_count": 3,
   "id": "db6ef803-fa03-46bd-84f9-9186bdc3b637",
   "metadata": {},
   "outputs": [
    {
     "name": "stdout",
     "output_type": "stream",
     "text": [
      "Requirement already satisfied: numexpr in /home/ntadmin/ntadminenv/lib/python3.10/site-packages (2.10.0)\n",
      "Requirement already satisfied: numpy>=1.19.3 in /home/ntadmin/ntadminenv/lib/python3.10/site-packages (from numexpr) (1.26.4)\n"
     ]
    }
   ],
   "source": [
    "! pip install numexpr\n"
   ]
  },
  {
   "cell_type": "code",
   "execution_count": 4,
   "id": "34035dc9-b8ae-45f9-a204-874f52b61c7b",
   "metadata": {},
   "outputs": [
    {
     "name": "stdout",
     "output_type": "stream",
     "text": [
      "Requirement already satisfied: openai in /home/ntadmin/ntadminenv/lib/python3.10/site-packages (1.34.0)\n",
      "Requirement already satisfied: httpx<1,>=0.23.0 in /home/ntadmin/ntadminenv/lib/python3.10/site-packages (from openai) (0.27.0)\n",
      "Requirement already satisfied: distro<2,>=1.7.0 in /home/ntadmin/ntadminenv/lib/python3.10/site-packages (from openai) (1.9.0)\n",
      "Requirement already satisfied: tqdm>4 in /home/ntadmin/ntadminenv/lib/python3.10/site-packages (from openai) (4.66.4)\n",
      "Requirement already satisfied: sniffio in /home/ntadmin/ntadminenv/lib/python3.10/site-packages (from openai) (1.3.1)\n",
      "Requirement already satisfied: typing-extensions<5,>=4.7 in /home/ntadmin/ntadminenv/lib/python3.10/site-packages (from openai) (4.12.2)\n",
      "Requirement already satisfied: pydantic<3,>=1.9.0 in /home/ntadmin/ntadminenv/lib/python3.10/site-packages (from openai) (2.7.4)\n",
      "Requirement already satisfied: anyio<5,>=3.5.0 in /home/ntadmin/ntadminenv/lib/python3.10/site-packages (from openai) (4.4.0)\n",
      "Requirement already satisfied: idna>=2.8 in /home/ntadmin/ntadminenv/lib/python3.10/site-packages (from anyio<5,>=3.5.0->openai) (3.7)\n",
      "Requirement already satisfied: exceptiongroup>=1.0.2 in /home/ntadmin/ntadminenv/lib/python3.10/site-packages (from anyio<5,>=3.5.0->openai) (1.2.1)\n",
      "Requirement already satisfied: certifi in /home/ntadmin/ntadminenv/lib/python3.10/site-packages (from httpx<1,>=0.23.0->openai) (2024.6.2)\n",
      "Requirement already satisfied: httpcore==1.* in /home/ntadmin/ntadminenv/lib/python3.10/site-packages (from httpx<1,>=0.23.0->openai) (1.0.5)\n",
      "Requirement already satisfied: h11<0.15,>=0.13 in /home/ntadmin/ntadminenv/lib/python3.10/site-packages (from httpcore==1.*->httpx<1,>=0.23.0->openai) (0.14.0)\n",
      "Requirement already satisfied: annotated-types>=0.4.0 in /home/ntadmin/ntadminenv/lib/python3.10/site-packages (from pydantic<3,>=1.9.0->openai) (0.7.0)\n",
      "Requirement already satisfied: pydantic-core==2.18.4 in /home/ntadmin/ntadminenv/lib/python3.10/site-packages (from pydantic<3,>=1.9.0->openai) (2.18.4)\n"
     ]
    }
   ],
   "source": [
    "! pip install openai"
   ]
  },
  {
   "cell_type": "code",
   "execution_count": 5,
   "id": "a763017a-a421-4d10-b788-b798ee4ea862",
   "metadata": {},
   "outputs": [
    {
     "name": "stderr",
     "output_type": "stream",
     "text": [
      "/home/ntadmin/ntadminenv/lib/python3.10/site-packages/langchain_core/_api/deprecation.py:139: LangChainDeprecationWarning: The class `OpenAI` was deprecated in LangChain 0.0.10 and will be removed in 0.3.0. An updated version of the class exists in the langchain-openai package and should be used instead. To use it run `pip install -U langchain-openai` and import as `from langchain_openai import OpenAI`.\n",
      "  warn_deprecated(\n"
     ]
    }
   ],
   "source": [
    "#!pip install langchain openai\n",
    "from langchain import OpenAI, LLMMathChain\n",
    "llm = OpenAI(temperature=0,openai_api_key=\"XXXXX\")\n",
    "llm_math = LLMMathChain.from_llm(llm, verbose=True)"
   ]
  },
  {
   "cell_type": "code",
   "execution_count": 6,
   "id": "1a2a7ca8-9007-40f7-a0f4-a6ecc8c75851",
   "metadata": {},
   "outputs": [
    {
     "name": "stderr",
     "output_type": "stream",
     "text": [
      "/home/ntadmin/ntadminenv/lib/python3.10/site-packages/langchain_core/_api/deprecation.py:139: LangChainDeprecationWarning: The method `Chain.run` was deprecated in langchain 0.1.0 and will be removed in 0.3.0. Use invoke instead.\n",
      "  warn_deprecated(\n"
     ]
    },
    {
     "name": "stdout",
     "output_type": "stream",
     "text": [
      "\n",
      "\n",
      "\u001b[1m> Entering new LLMMathChain chain...\u001b[0m\n",
      "What is 13 raised to the .3432 power?\u001b[32;1m\u001b[1;3m```text\n",
      "13**0.3432\n",
      "```\n",
      "...numexpr.evaluate(\"13**0.3432\")...\n",
      "\u001b[0m\n",
      "Answer: \u001b[33;1m\u001b[1;3m2.4116004626599237\u001b[0m\n",
      "\u001b[1m> Finished chain.\u001b[0m\n"
     ]
    },
    {
     "data": {
      "text/plain": [
       "'Answer: 2.4116004626599237'"
      ]
     },
     "execution_count": 6,
     "metadata": {},
     "output_type": "execute_result"
    }
   ],
   "source": [
    "llm_math.run(\"What is 13 raised to the .3432 power?\")"
   ]
  },
  {
   "cell_type": "code",
   "execution_count": 7,
   "id": "6c19f615-c031-4d1a-ade6-0513cd31b6fb",
   "metadata": {},
   "outputs": [
    {
     "name": "stdout",
     "output_type": "stream",
     "text": [
      "\n",
      "\n",
      "\u001b[1m> Entering new LLMMathChain chain...\u001b[0m\n",
      "2 ยกกำลัง 45 คือ?\u001b[32;1m\u001b[1;3m```text\n",
      "2**45\n",
      "```\n",
      "...numexpr.evaluate(\"2**45\")...\n",
      "\u001b[0m\n",
      "Answer: \u001b[33;1m\u001b[1;3m35184372088832\u001b[0m\n",
      "\u001b[1m> Finished chain.\u001b[0m\n"
     ]
    },
    {
     "data": {
      "text/plain": [
       "'Answer: 35184372088832'"
      ]
     },
     "execution_count": 7,
     "metadata": {},
     "output_type": "execute_result"
    }
   ],
   "source": [
    "llm_math.run(\"2 ยกกำลัง 45 คือ?\")"
   ]
  },
  {
   "cell_type": "code",
   "execution_count": null,
   "id": "aecb149c-6bee-4cfb-b354-f59db26f447b",
   "metadata": {},
   "outputs": [],
   "source": []
  }
 ],
 "metadata": {
  "kernelspec": {
   "display_name": "Python 3 (ipykernel)",
   "language": "python",
   "name": "python3"
  },
  "language_info": {
   "codemirror_mode": {
    "name": "ipython",
    "version": 3
   },
   "file_extension": ".py",
   "mimetype": "text/x-python",
   "name": "python",
   "nbconvert_exporter": "python",
   "pygments_lexer": "ipython3",
   "version": "3.10.12"
  }
 },
 "nbformat": 4,
 "nbformat_minor": 5
}
