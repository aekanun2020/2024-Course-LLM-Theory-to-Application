{
 "cells": [
  {
   "cell_type": "code",
   "execution_count": 1,
   "id": "bd69a582-06d9-4a30-a01d-16c8cf74321c",
   "metadata": {},
   "outputs": [],
   "source": [
    "%%capture\n",
    "%pip install accelerate peft bitsandbytes transformers trl\n",
    "import warnings\n",
    "warnings.filterwarnings('ignore')"
   ]
  },
  {
   "cell_type": "code",
   "execution_count": 2,
   "id": "d00720a1-a6da-40cd-8599-f663b87665f5",
   "metadata": {},
   "outputs": [
    {
     "name": "stdout",
     "output_type": "stream",
     "text": [
      "Requirement already satisfied: langchain_community in /home/ntadmin/ntadminenv/lib/python3.10/site-packages (0.2.5)\n",
      "Requirement already satisfied: tenacity<9.0.0,>=8.1.0 in /home/ntadmin/ntadminenv/lib/python3.10/site-packages (from langchain_community) (8.4.1)\n",
      "Requirement already satisfied: requests<3,>=2 in /home/ntadmin/ntadminenv/lib/python3.10/site-packages (from langchain_community) (2.32.3)\n",
      "Requirement already satisfied: PyYAML>=5.3 in /home/ntadmin/ntadminenv/lib/python3.10/site-packages (from langchain_community) (6.0.1)\n",
      "Requirement already satisfied: langchain<0.3.0,>=0.2.5 in /home/ntadmin/ntadminenv/lib/python3.10/site-packages (from langchain_community) (0.2.5)\n",
      "Requirement already satisfied: langsmith<0.2.0,>=0.1.0 in /home/ntadmin/ntadminenv/lib/python3.10/site-packages (from langchain_community) (0.1.77)\n",
      "Requirement already satisfied: SQLAlchemy<3,>=1.4 in /home/ntadmin/ntadminenv/lib/python3.10/site-packages (from langchain_community) (2.0.30)\n",
      "Requirement already satisfied: numpy<2,>=1 in /home/ntadmin/ntadminenv/lib/python3.10/site-packages (from langchain_community) (1.26.4)\n",
      "Requirement already satisfied: aiohttp<4.0.0,>=3.8.3 in /home/ntadmin/ntadminenv/lib/python3.10/site-packages (from langchain_community) (3.9.5)\n",
      "Requirement already satisfied: langchain-core<0.3.0,>=0.2.7 in /home/ntadmin/ntadminenv/lib/python3.10/site-packages (from langchain_community) (0.2.7)\n",
      "Requirement already satisfied: dataclasses-json<0.7,>=0.5.7 in /home/ntadmin/ntadminenv/lib/python3.10/site-packages (from langchain_community) (0.6.7)\n",
      "Requirement already satisfied: yarl<2.0,>=1.0 in /home/ntadmin/ntadminenv/lib/python3.10/site-packages (from aiohttp<4.0.0,>=3.8.3->langchain_community) (1.9.4)\n",
      "Requirement already satisfied: async-timeout<5.0,>=4.0 in /home/ntadmin/ntadminenv/lib/python3.10/site-packages (from aiohttp<4.0.0,>=3.8.3->langchain_community) (4.0.3)\n",
      "Requirement already satisfied: multidict<7.0,>=4.5 in /home/ntadmin/ntadminenv/lib/python3.10/site-packages (from aiohttp<4.0.0,>=3.8.3->langchain_community) (6.0.5)\n",
      "Requirement already satisfied: aiosignal>=1.1.2 in /home/ntadmin/ntadminenv/lib/python3.10/site-packages (from aiohttp<4.0.0,>=3.8.3->langchain_community) (1.3.1)\n",
      "Requirement already satisfied: frozenlist>=1.1.1 in /home/ntadmin/ntadminenv/lib/python3.10/site-packages (from aiohttp<4.0.0,>=3.8.3->langchain_community) (1.4.1)\n",
      "Requirement already satisfied: attrs>=17.3.0 in /home/ntadmin/ntadminenv/lib/python3.10/site-packages (from aiohttp<4.0.0,>=3.8.3->langchain_community) (23.2.0)\n",
      "Requirement already satisfied: marshmallow<4.0.0,>=3.18.0 in /home/ntadmin/ntadminenv/lib/python3.10/site-packages (from dataclasses-json<0.7,>=0.5.7->langchain_community) (3.21.3)\n",
      "Requirement already satisfied: typing-inspect<1,>=0.4.0 in /home/ntadmin/ntadminenv/lib/python3.10/site-packages (from dataclasses-json<0.7,>=0.5.7->langchain_community) (0.9.0)\n",
      "Requirement already satisfied: pydantic<3,>=1 in /home/ntadmin/ntadminenv/lib/python3.10/site-packages (from langchain<0.3.0,>=0.2.5->langchain_community) (2.7.4)\n",
      "Requirement already satisfied: langchain-text-splitters<0.3.0,>=0.2.0 in /home/ntadmin/ntadminenv/lib/python3.10/site-packages (from langchain<0.3.0,>=0.2.5->langchain_community) (0.2.1)\n",
      "Requirement already satisfied: packaging<25,>=23.2 in /home/ntadmin/ntadminenv/lib/python3.10/site-packages (from langchain-core<0.3.0,>=0.2.7->langchain_community) (24.1)\n",
      "Requirement already satisfied: jsonpatch<2.0,>=1.33 in /home/ntadmin/ntadminenv/lib/python3.10/site-packages (from langchain-core<0.3.0,>=0.2.7->langchain_community) (1.33)\n",
      "Requirement already satisfied: orjson<4.0.0,>=3.9.14 in /home/ntadmin/ntadminenv/lib/python3.10/site-packages (from langsmith<0.2.0,>=0.1.0->langchain_community) (3.10.5)\n",
      "Requirement already satisfied: certifi>=2017.4.17 in /home/ntadmin/ntadminenv/lib/python3.10/site-packages (from requests<3,>=2->langchain_community) (2024.6.2)\n",
      "Requirement already satisfied: idna<4,>=2.5 in /home/ntadmin/ntadminenv/lib/python3.10/site-packages (from requests<3,>=2->langchain_community) (3.7)\n",
      "Requirement already satisfied: urllib3<3,>=1.21.1 in /home/ntadmin/ntadminenv/lib/python3.10/site-packages (from requests<3,>=2->langchain_community) (2.2.1)\n",
      "Requirement already satisfied: charset-normalizer<4,>=2 in /home/ntadmin/ntadminenv/lib/python3.10/site-packages (from requests<3,>=2->langchain_community) (3.3.2)\n",
      "Requirement already satisfied: typing-extensions>=4.6.0 in /home/ntadmin/ntadminenv/lib/python3.10/site-packages (from SQLAlchemy<3,>=1.4->langchain_community) (4.12.2)\n",
      "Requirement already satisfied: greenlet!=0.4.17 in /home/ntadmin/ntadminenv/lib/python3.10/site-packages (from SQLAlchemy<3,>=1.4->langchain_community) (3.0.3)\n",
      "Requirement already satisfied: jsonpointer>=1.9 in /home/ntadmin/ntadminenv/lib/python3.10/site-packages (from jsonpatch<2.0,>=1.33->langchain-core<0.3.0,>=0.2.7->langchain_community) (3.0.0)\n",
      "Requirement already satisfied: pydantic-core==2.18.4 in /home/ntadmin/ntadminenv/lib/python3.10/site-packages (from pydantic<3,>=1->langchain<0.3.0,>=0.2.5->langchain_community) (2.18.4)\n",
      "Requirement already satisfied: annotated-types>=0.4.0 in /home/ntadmin/ntadminenv/lib/python3.10/site-packages (from pydantic<3,>=1->langchain<0.3.0,>=0.2.5->langchain_community) (0.7.0)\n",
      "Requirement already satisfied: mypy-extensions>=0.3.0 in /home/ntadmin/ntadminenv/lib/python3.10/site-packages (from typing-inspect<1,>=0.4.0->dataclasses-json<0.7,>=0.5.7->langchain_community) (1.0.0)\n"
     ]
    }
   ],
   "source": [
    "! pip install langchain_community"
   ]
  },
  {
   "cell_type": "code",
   "execution_count": 3,
   "id": "db6ef803-fa03-46bd-84f9-9186bdc3b637",
   "metadata": {},
   "outputs": [
    {
     "name": "stdout",
     "output_type": "stream",
     "text": [
      "Requirement already satisfied: numexpr in /home/ntadmin/ntadminenv/lib/python3.10/site-packages (2.10.0)\n",
      "Requirement already satisfied: numpy>=1.19.3 in /home/ntadmin/ntadminenv/lib/python3.10/site-packages (from numexpr) (1.26.4)\n"
     ]
    }
   ],
   "source": [
    "! pip install numexpr\n"
   ]
  },
  {
   "cell_type": "code",
   "execution_count": 4,
   "id": "34035dc9-b8ae-45f9-a204-874f52b61c7b",
   "metadata": {},
   "outputs": [
    {
     "name": "stdout",
     "output_type": "stream",
     "text": [
      "Requirement already satisfied: openai in /home/ntadmin/ntadminenv/lib/python3.10/site-packages (1.34.0)\n",
      "Requirement already satisfied: pydantic<3,>=1.9.0 in /home/ntadmin/ntadminenv/lib/python3.10/site-packages (from openai) (2.7.4)\n",
      "Requirement already satisfied: sniffio in /home/ntadmin/ntadminenv/lib/python3.10/site-packages (from openai) (1.3.1)\n",
      "Requirement already satisfied: httpx<1,>=0.23.0 in /home/ntadmin/ntadminenv/lib/python3.10/site-packages (from openai) (0.27.0)\n",
      "Requirement already satisfied: anyio<5,>=3.5.0 in /home/ntadmin/ntadminenv/lib/python3.10/site-packages (from openai) (4.4.0)\n",
      "Requirement already satisfied: distro<2,>=1.7.0 in /home/ntadmin/ntadminenv/lib/python3.10/site-packages (from openai) (1.9.0)\n",
      "Requirement already satisfied: tqdm>4 in /home/ntadmin/ntadminenv/lib/python3.10/site-packages (from openai) (4.66.4)\n",
      "Requirement already satisfied: typing-extensions<5,>=4.7 in /home/ntadmin/ntadminenv/lib/python3.10/site-packages (from openai) (4.12.2)\n",
      "Requirement already satisfied: exceptiongroup>=1.0.2 in /home/ntadmin/ntadminenv/lib/python3.10/site-packages (from anyio<5,>=3.5.0->openai) (1.2.1)\n",
      "Requirement already satisfied: idna>=2.8 in /home/ntadmin/ntadminenv/lib/python3.10/site-packages (from anyio<5,>=3.5.0->openai) (3.7)\n",
      "Requirement already satisfied: certifi in /home/ntadmin/ntadminenv/lib/python3.10/site-packages (from httpx<1,>=0.23.0->openai) (2024.6.2)\n",
      "Requirement already satisfied: httpcore==1.* in /home/ntadmin/ntadminenv/lib/python3.10/site-packages (from httpx<1,>=0.23.0->openai) (1.0.5)\n",
      "Requirement already satisfied: h11<0.15,>=0.13 in /home/ntadmin/ntadminenv/lib/python3.10/site-packages (from httpcore==1.*->httpx<1,>=0.23.0->openai) (0.14.0)\n",
      "Requirement already satisfied: annotated-types>=0.4.0 in /home/ntadmin/ntadminenv/lib/python3.10/site-packages (from pydantic<3,>=1.9.0->openai) (0.7.0)\n",
      "Requirement already satisfied: pydantic-core==2.18.4 in /home/ntadmin/ntadminenv/lib/python3.10/site-packages (from pydantic<3,>=1.9.0->openai) (2.18.4)\n"
     ]
    }
   ],
   "source": [
    "! pip install openai"
   ]
  },
  {
   "cell_type": "code",
   "execution_count": 5,
   "id": "a763017a-a421-4d10-b788-b798ee4ea862",
   "metadata": {},
   "outputs": [
    {
     "name": "stderr",
     "output_type": "stream",
     "text": [
      "/home/ntadmin/ntadminenv/lib/python3.10/site-packages/langchain_core/_api/deprecation.py:139: LangChainDeprecationWarning: The class `OpenAI` was deprecated in LangChain 0.0.10 and will be removed in 0.3.0. An updated version of the class exists in the langchain-openai package and should be used instead. To use it run `pip install -U langchain-openai` and import as `from langchain_openai import OpenAI`.\n",
      "  warn_deprecated(\n"
     ]
    }
   ],
   "source": [
    "#!pip install langchain openai\n",
    "from langchain import OpenAI, LLMMathChain\n",
    "llm = OpenAI(temperature=0,\\\n",
    "             openai_api_key=\"XXXXXX\")"
   ]
  },
  {
   "cell_type": "code",
   "execution_count": 6,
   "id": "92cf6ba4-a255-4191-9768-1dd767eba727",
   "metadata": {},
   "outputs": [],
   "source": [
    "from langchain.agents import Tool, initialize_agent"
   ]
  },
  {
   "cell_type": "code",
   "execution_count": 7,
   "id": "0123e317-4d41-4a66-af9a-eff757b84ab0",
   "metadata": {},
   "outputs": [],
   "source": [
    "llm_math = LLMMathChain.from_llm(llm, verbose=True)"
   ]
  },
  {
   "cell_type": "code",
   "execution_count": 8,
   "id": "efdf5845-78d4-4dfa-8d43-965853ebcf73",
   "metadata": {},
   "outputs": [],
   "source": [
    "def check_grammar(text: str) -> str:\n",
    "    # Use a grammar check API or library here\n",
    "    return f\"Grammar checked: {text}\"\n",
    "grammar_tool = Tool(\n",
    "    name=\"Check Grammar\",\n",
    "    func=check_grammar,\n",
    "    description=\"Check the grammar of English text.\"\n",
    ")\n"
   ]
  },
  {
   "cell_type": "code",
   "execution_count": 9,
   "id": "24294203-1f8c-49bb-8761-80140eedf7c0",
   "metadata": {},
   "outputs": [],
   "source": [
    "def summarize_text(text: str) -> str:\n",
    "    # Use a summarization model here\n",
    "    return f\"Summary: {text[:50]}...\"\n",
    "summarize_tool = Tool(\n",
    "    name=\"Summarize Text\",\n",
    "    func=summarize_text,\n",
    "    description=\"Summarize long text content.\"\n",
    ")\n"
   ]
  },
  {
   "cell_type": "code",
   "execution_count": 10,
   "id": "aecb149c-6bee-4cfb-b354-f59db26f447b",
   "metadata": {},
   "outputs": [],
   "source": [
    "math_tool = Tool(\n",
    "    name=\"Calci\",\n",
    "    func=llm_math.run,\n",
    "    description=\"Useful for when you need to answer questions related to Math.\"\n",
    ")\n",
    "\n",
    "\n",
    "grammar_tool = Tool(\n",
    "    name=\"Check Grammar\",\n",
    "    func=check_grammar,\n",
    "    description=\"Check the grammar of English text.\"\n",
    ")\n",
    "\n",
    "summarize_tool = Tool(\n",
    "    name=\"Summarize Text\",\n",
    "    func=summarize_text,\n",
    "    description=\"Summarize long text content.\"\n",
    ")\n",
    "\n",
    "tools = [math_tool, grammar_tool, summarize_tool]"
   ]
  },
  {
   "cell_type": "code",
   "execution_count": 11,
   "id": "4a83e0a1-1c6b-4b60-91ab-d1dd9bd8eda3",
   "metadata": {},
   "outputs": [
    {
     "name": "stderr",
     "output_type": "stream",
     "text": [
      "/home/ntadmin/ntadminenv/lib/python3.10/site-packages/langchain_core/_api/deprecation.py:139: LangChainDeprecationWarning: The function `initialize_agent` was deprecated in LangChain 0.1.0 and will be removed in 0.3.0. Use Use new agent constructor methods like create_react_agent, create_json_agent, create_structured_chat_agent, etc. instead.\n",
      "  warn_deprecated(\n"
     ]
    }
   ],
   "source": [
    "agent = initialize_agent(\n",
    "    agent=\"zero-shot-react-description\",\n",
    "    agent_type=\"chat-conversational\",\n",
    "    tools=tools,\n",
    "    llm=llm,\n",
    "    verbose=True,\n",
    "    max_iterations=3\n",
    "\n",
    ")\n",
    "\n",
    "## print(agent)\n"
   ]
  },
  {
   "cell_type": "code",
   "execution_count": 12,
   "id": "ffed340a-e032-4658-be48-337e9b0c76f6",
   "metadata": {},
   "outputs": [
    {
     "name": "stderr",
     "output_type": "stream",
     "text": [
      "/home/ntadmin/ntadminenv/lib/python3.10/site-packages/langchain_core/_api/deprecation.py:139: LangChainDeprecationWarning: The method `Chain.__call__` was deprecated in langchain 0.1.0 and will be removed in 0.3.0. Use invoke instead.\n",
      "  warn_deprecated(\n"
     ]
    },
    {
     "name": "stdout",
     "output_type": "stream",
     "text": [
      "\n",
      "\n",
      "\u001b[1m> Entering new AgentExecutor chain...\u001b[0m\n",
      "\u001b[32;1m\u001b[1;3m I should use Calci to solve this math problem.\n",
      "Action: Calci\n",
      "Action Input: (4*512)+152\u001b[0m\n",
      "\n",
      "\u001b[1m> Entering new LLMMathChain chain...\u001b[0m\n",
      "(4*512)+152\u001b[32;1m\u001b[1;3m```text\n",
      "(4*512)+152\n",
      "```\n",
      "...numexpr.evaluate(\"(4*512)+152\")...\n",
      "\u001b[0m\n",
      "Answer: \u001b[33;1m\u001b[1;3m2200\u001b[0m\n",
      "\u001b[1m> Finished chain.\u001b[0m\n",
      "\n",
      "Observation: \u001b[36;1m\u001b[1;3mAnswer: 2200\u001b[0m\n",
      "Thought:\u001b[32;1m\u001b[1;3m I now know the final answer.\n",
      "Final Answer: 2200\u001b[0m\n",
      "\n",
      "\u001b[1m> Finished chain.\u001b[0m\n",
      "{'input': 'What is (4*512)+152', 'output': '2200'}\n",
      "\n",
      "\n",
      "\u001b[1m> Entering new AgentExecutor chain...\u001b[0m\n",
      "\u001b[32;1m\u001b[1;3m I should use the Check Grammar tool to check the grammar of the sentence.\n",
      "Action: Check Grammar\n",
      "Action Input: 'I goes to school.'\u001b[0m\n",
      "Observation: \u001b[33;1m\u001b[1;3mGrammar checked: 'I goes to school.'\u001b[0m\n",
      "Thought:\u001b[32;1m\u001b[1;3m I now know the final answer\n",
      "Final Answer: The sentence 'I goes to school.' is grammatically incorrect.\u001b[0m\n",
      "\n",
      "\u001b[1m> Finished chain.\u001b[0m\n",
      "{'input': \"Check the grammar of this sentence: 'I goes to school.'\", 'output': \"The sentence 'I goes to school.' is grammatically incorrect.\"}\n",
      "\n",
      "\n",
      "\u001b[1m> Entering new AgentExecutor chain...\u001b[0m\n",
      "\u001b[32;1m\u001b[1;3m I should use the Summarize Text tool to summarize the given text.\n",
      "Action: Summarize Text\n",
      "Action Input: \"Artificial Intelligence (AI) is a field of study that focuses on creating systems capable of performing tasks that require human intelligence. These tasks include learning, reasoning, problem-solving, perception, and language understanding.\"\u001b[0m\n",
      "Observation: \u001b[38;5;200m\u001b[1;3mSummary: Artificial Intelligence (AI) is a field of study t...\u001b[0m\n",
      "Thought:\u001b[32;1m\u001b[1;3m I now know the final answer.\n",
      "Final Answer: Summary: Artificial Intelligence (AI) is a field of study that focuses on creating systems capable of performing tasks that require human intelligence.\u001b[0m\n",
      "\n",
      "\u001b[1m> Finished chain.\u001b[0m\n",
      "{'input': '\\nSummarize this text: \\nArtificial Intelligence (AI) is a field of study that focuses on \\ncreating systems capable of performing tasks that require human intelligence. \\nThese tasks include learning, reasoning, problem-solving, perception, \\nand language understanding.\\n', 'output': 'Summary: Artificial Intelligence (AI) is a field of study that focuses on creating systems capable of performing tasks that require human intelligence.'}\n"
     ]
    }
   ],
   "source": [
    "# Math tool\n",
    "response = agent(\"What is (4*512)+152\")\n",
    "print(response)\n",
    "\n",
    "\n",
    "# Grammar check tool\n",
    "response = agent(\"Check the grammar of this sentence: 'I goes to school.'\")\n",
    "print(response)\n",
    "\n",
    "# Summarize tool\n",
    "response = agent(\"\"\"\n",
    "Summarize this text: \n",
    "Artificial Intelligence (AI) is a field of study that focuses on \n",
    "creating systems capable of performing tasks that require human intelligence. \n",
    "These tasks include learning, reasoning, problem-solving, perception, \n",
    "and language understanding.\n",
    "\"\"\")\n",
    "print(response)\n"
   ]
  },
  {
   "cell_type": "code",
   "execution_count": null,
   "id": "51c2d309-334c-4cf4-babb-163e6d8391f9",
   "metadata": {},
   "outputs": [],
   "source": []
  }
 ],
 "metadata": {
  "kernelspec": {
   "display_name": "Python 3 (ipykernel)",
   "language": "python",
   "name": "python3"
  },
  "language_info": {
   "codemirror_mode": {
    "name": "ipython",
    "version": 3
   },
   "file_extension": ".py",
   "mimetype": "text/x-python",
   "name": "python",
   "nbconvert_exporter": "python",
   "pygments_lexer": "ipython3",
   "version": "3.10.12"
  }
 },
 "nbformat": 4,
 "nbformat_minor": 5
}
