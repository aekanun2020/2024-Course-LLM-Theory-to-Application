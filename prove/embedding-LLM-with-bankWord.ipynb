{
 "cells": [
  {
   "cell_type": "code",
   "execution_count": 1,
   "id": "dbba2309-960f-4c57-ad39-a34dc5198b00",
   "metadata": {},
   "outputs": [
    {
     "name": "stdout",
     "output_type": "stream",
     "text": [
      "NAME              \tID          \tSIZE  \tMODIFIED    \n",
      "llama2:latest     \t78e26419b446\t3.8 GB\t2 weeks ago\t\n",
      "openthaigpt:latest\te242a9902d99\t4.1 GB\t2 weeks ago\t\n"
     ]
    }
   ],
   "source": [
    "! ollama list"
   ]
  },
  {
   "cell_type": "code",
   "execution_count": 2,
   "id": "dbbc7908-b1c4-4be0-a80b-ff95b611cc8b",
   "metadata": {},
   "outputs": [
    {
     "name": "stdout",
     "output_type": "stream",
     "text": [
      "ประโยค 1: I need to go to the bank to deposit some money.\n",
      "Embedding สำหรับ 'bank' (first 5 dimensions): [-0.05061352  0.25588679  0.14729989 -0.24418509 -0.8758502 ]\n",
      "\n",
      "ประโยค 2: The river bank was overgrown with wildflowers.\n",
      "Embedding สำหรับ 'bank' (first 5 dimensions): [ 0.09196796  0.43233076  1.2263118  -1.19697857 -0.73142749]\n",
      "\n",
      "ประโยค 3: The pilot had to bank the airplane to avoid turbulence.\n",
      "Embedding สำหรับ 'bank' (first 5 dimensions): [-0.0269017   0.81395465  1.48813295 -0.65739274 -1.56267452]\n",
      "\n",
      "ประโยค 4: You can bank on me to finish the project on time.\n",
      "Embedding สำหรับ 'bank' (first 5 dimensions): [-0.57595593  1.48642766  0.97439957 -1.22708702 -2.76574588]\n",
      "\n",
      "ประโยค 5: The food bank is collecting donations for the homeless.\n",
      "Embedding สำหรับ 'bank' (first 5 dimensions): [-0.15703824  0.43237287  1.23145711 -1.95311415 -3.26178479]\n",
      "\n",
      "ประโยค 6: The central bank announced new interest rates to stabilize the economy.\n",
      "Embedding สำหรับ 'bank' (first 5 dimensions): [-1.58153486 -0.92791671  2.23690009 -1.57290852 -2.26916981]\n",
      "\n",
      "Cosine Similarities:\n",
      "1.0000\t-0.6661\t-0.5701\t0.8021\t-0.4217\t0.2128\t\n",
      "-0.6661\t1.0000\t0.8583\t-0.2233\t0.8126\t0.2735\t\n",
      "-0.5701\t0.8583\t1.0000\t-0.1034\t0.8450\t0.3602\t\n",
      "0.8021\t-0.2233\t-0.1034\t1.0000\t0.0583\t0.4496\t\n",
      "-0.4217\t0.8126\t0.8450\t0.0583\t1.0000\t0.4531\t\n",
      "0.2128\t0.2735\t0.3602\t0.4496\t0.4531\t1.0000\t\n",
      "\n",
      "ประโยคที่มีความคล้ายคลึงกันมากที่สุด: ประโยค 2 และประโยค 3\n",
      "ค่าความคล้ายคลึง: 0.8583\n",
      "ประโยค 2: The river bank was overgrown with wildflowers.\n",
      "ประโยค 3: The pilot had to bank the airplane to avoid turbulence.\n"
     ]
    }
   ],
   "source": [
    "import requests\n",
    "import numpy as np\n",
    "\n",
    "# Function to get embedding from OpenThaiGPT via Ollama\n",
    "def get_embedding(text):\n",
    "    response = requests.post('http://localhost:11434/api/embeddings', json={\n",
    "        \"model\": \"openthaigpt\",\n",
    "        \"prompt\": text\n",
    "    })\n",
    "    return np.array(response.json()['embedding'])\n",
    "\n",
    "# Function to get word embedding (simplified, may need adjustment)\n",
    "def get_word_embedding(sentence, word):\n",
    "    full_embedding = get_embedding(sentence)\n",
    "    # This is a simplification. In reality, we might need a more sophisticated\n",
    "    # method to extract the embedding for a specific word.\n",
    "    return full_embedding\n",
    "\n",
    "# Example sentences using \"ตา\" in different contexts\n",
    "sentences = [\n",
    "    \"I need to go to the bank to deposit some money.\",\n",
    "    \"The river bank was overgrown with wildflowers.\",\n",
    "    \"The pilot had to bank the airplane to avoid turbulence.\",\n",
    "    \"You can bank on me to finish the project on time.\",\n",
    "    \"The food bank is collecting donations for the homeless.\",\n",
    "    \"The central bank announced new interest rates to stabilize the economy.\"\n",
    "]\n",
    "\n",
    "\n",
    "# Get embeddings for 'ตา' in each context\n",
    "embeddings = [get_word_embedding(sentence, 'ตา') for sentence in sentences]\n",
    "\n",
    "# Function to compute cosine similarity\n",
    "def cosine_similarity(v1, v2):\n",
    "    return np.dot(v1, v2) / (np.linalg.norm(v1) * np.linalg.norm(v2))\n",
    "\n",
    "# Compute pairwise similarities\n",
    "similarities = np.zeros((len(embeddings), len(embeddings)))\n",
    "for i in range(len(embeddings)):\n",
    "    for j in range(len(embeddings)):\n",
    "        similarities[i][j] = cosine_similarity(embeddings[i], embeddings[j])\n",
    "\n",
    "# Print results\n",
    "for i, sentence in enumerate(sentences):\n",
    "    print(f\"ประโยค {i+1}: {sentence}\")\n",
    "    print(f\"Embedding สำหรับ 'bank' (first 5 dimensions): {embeddings[i][:5]}\")\n",
    "    print()\n",
    "\n",
    "print(\"Cosine Similarities:\")\n",
    "for i in range(len(similarities)):\n",
    "    for j in range(len(similarities)):\n",
    "        print(f\"{similarities[i][j]:.4f}\", end=\"\\t\")\n",
    "    print()\n",
    "\n",
    "# Find the most similar pair of sentences\n",
    "max_similarity = 0\n",
    "max_pair = (0, 0)\n",
    "for i in range(len(similarities)):\n",
    "    for j in range(i+1, len(similarities)):\n",
    "        if similarities[i][j] > max_similarity:\n",
    "            max_similarity = similarities[i][j]\n",
    "            max_pair = (i, j)\n",
    "\n",
    "print(f\"\\nประโยคที่มีความคล้ายคลึงกันมากที่สุด: ประโยค {max_pair[0]+1} และประโยค {max_pair[1]+1}\")\n",
    "print(f\"ค่าความคล้ายคลึง: {max_similarity:.4f}\")\n",
    "print(f\"ประโยค {max_pair[0]+1}: {sentences[max_pair[0]]}\")\n",
    "print(f\"ประโยค {max_pair[1]+1}: {sentences[max_pair[1]]}\")"
   ]
  },
  {
   "cell_type": "code",
   "execution_count": null,
   "id": "658dc65d-0e08-4876-8923-db40cd51d7a9",
   "metadata": {},
   "outputs": [],
   "source": []
  }
 ],
 "metadata": {
  "kernelspec": {
   "display_name": "Python 3 (ipykernel)",
   "language": "python",
   "name": "python3"
  },
  "language_info": {
   "codemirror_mode": {
    "name": "ipython",
    "version": 3
   },
   "file_extension": ".py",
   "mimetype": "text/x-python",
   "name": "python",
   "nbconvert_exporter": "python",
   "pygments_lexer": "ipython3",
   "version": "3.10.12"
  }
 },
 "nbformat": 4,
 "nbformat_minor": 5
}
