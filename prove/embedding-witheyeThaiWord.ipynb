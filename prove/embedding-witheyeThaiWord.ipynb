{
 "cells": [
  {
   "cell_type": "code",
   "execution_count": 1,
   "id": "dbba2309-960f-4c57-ad39-a34dc5198b00",
   "metadata": {},
   "outputs": [
    {
     "name": "stdout",
     "output_type": "stream",
     "text": [
      "NAME              \tID          \tSIZE  \tMODIFIED    \n",
      "llama2:latest     \t78e26419b446\t3.8 GB\t2 weeks ago\t\n",
      "openthaigpt:latest\te242a9902d99\t4.1 GB\t2 weeks ago\t\n"
     ]
    }
   ],
   "source": [
    "! ollama list"
   ]
  },
  {
   "cell_type": "code",
   "execution_count": 2,
   "id": "dbbc7908-b1c4-4be0-a80b-ff95b611cc8b",
   "metadata": {},
   "outputs": [
    {
     "name": "stdout",
     "output_type": "stream",
     "text": [
      "ประโยค 1: ตาของฉันมองเห็นได้ไม่ชัดเจนในที่มืด\n",
      "Embedding สำหรับ 'ตา' (5 มิติแรก): [ 1.02773631 -2.00147319 -0.6744923  -3.36433649  0.16465473]\n",
      "\n",
      "ประโยค 2: ตาของฉันชอบเล่านิทานให้หลานฟัง\n",
      "Embedding สำหรับ 'ตา' (5 มิติแรก): [ 1.74994242 -1.75833607 -2.10216713  0.96326739  2.70796347]\n",
      "\n",
      "ประโยค 3: ตาข่ายนี้มีตาห่างกัน 1 นิ้ว\n",
      "Embedding สำหรับ 'ตา' (5 มิติแรก): [ 2.13430572  1.53308547 -0.56140751  1.03662014  0.58016777]\n",
      "\n",
      "ประโยค 4: หมอตาแนะนำให้ฉันใส่แว่นสายตา\n",
      "Embedding สำหรับ 'ตา' (5 มิติแรก): [-1.33564496 -1.12100363  0.12250137  0.33749661  2.37906742]\n",
      "\n",
      "ประโยค 5: ฉันชอบทานข้าวกับน้ำพริกปลาทู และไข่ต้มไข่ตาเดียว\n",
      "Embedding สำหรับ 'ตา' (5 มิติแรก): [-1.28735363 -1.37021363  1.30141366  0.32551229 -1.54150462]\n",
      "\n",
      "ประโยค 6: ตาของแมวมองเห็นได้ในที่มืด\n",
      "Embedding สำหรับ 'ตา' (5 มิติแรก): [ 1.47900188  2.06987476 -0.55017507 -1.43172538 -2.80366635]\n",
      "\n",
      "Cosine Similarities:\n",
      "1.0000\t0.1798\t0.1514\t0.1494\t0.1410\t0.3805\t\n",
      "0.1798\t1.0000\t0.1313\t0.1224\t0.1869\t0.1640\t\n",
      "0.1514\t0.1313\t1.0000\t0.0779\t0.1526\t0.2062\t\n",
      "0.1494\t0.1224\t0.0779\t1.0000\t0.1260\t0.1115\t\n",
      "0.1410\t0.1869\t0.1526\t0.1260\t1.0000\t0.1499\t\n",
      "0.3805\t0.1640\t0.2062\t0.1115\t0.1499\t1.0000\t\n",
      "\n",
      "ประโยคที่มีความคล้ายคลึงกันมากที่สุด: ประโยค 1 และประโยค 6\n",
      "ค่าความคล้ายคลึง: 0.3805\n",
      "ประโยค 1: ตาของฉันมองเห็นได้ไม่ชัดเจนในที่มืด\n",
      "ประโยค 6: ตาของแมวมองเห็นได้ในที่มืด\n"
     ]
    }
   ],
   "source": [
    "import requests\n",
    "import numpy as np\n",
    "\n",
    "# Function to get embedding from OpenThaiGPT via Ollama\n",
    "def get_embedding(text):\n",
    "    response = requests.post('http://localhost:11434/api/embeddings', json={\n",
    "        \"model\": \"openthaigpt\",\n",
    "        \"prompt\": text\n",
    "    })\n",
    "    return np.array(response.json()['embedding'])\n",
    "\n",
    "# Function to get word embedding (simplified, may need adjustment)\n",
    "def get_word_embedding(sentence, word):\n",
    "    full_embedding = get_embedding(sentence)\n",
    "    # This is a simplification. In reality, we might need a more sophisticated\n",
    "    # method to extract the embedding for a specific word.\n",
    "    return full_embedding\n",
    "\n",
    "# Example sentences using \"ตา\" in different contexts\n",
    "sentences = [\n",
    "    \"ตาของฉันมองเห็นได้ไม่ชัดเจนในที่มืด\",\n",
    "    \"ตาของฉันชอบเล่านิทานให้หลานฟัง\",\n",
    "    \"ตาข่ายนี้มีตาห่างกัน 1 นิ้ว\",\n",
    "    \"หมอตาแนะนำให้ฉันใส่แว่นสายตา\",\n",
    "    \"ฉันชอบทานข้าวกับน้ำพริกปลาทู และไข่ต้มไข่ตาเดียว\",\n",
    "    \"ตาของแมวมองเห็นได้ในที่มืด\"  # ประโยคที่ 6: ใช้ \"ตา\" ในความหมายเดียวกับประโยคที่ 1\n",
    "]\n",
    "\n",
    "# Get embeddings for 'ตา' in each context\n",
    "embeddings = [get_word_embedding(sentence, 'ตา') for sentence in sentences]\n",
    "\n",
    "# Function to compute cosine similarity\n",
    "def cosine_similarity(v1, v2):\n",
    "    return np.dot(v1, v2) / (np.linalg.norm(v1) * np.linalg.norm(v2))\n",
    "\n",
    "# Compute pairwise similarities\n",
    "similarities = np.zeros((len(embeddings), len(embeddings)))\n",
    "for i in range(len(embeddings)):\n",
    "    for j in range(len(embeddings)):\n",
    "        similarities[i][j] = cosine_similarity(embeddings[i], embeddings[j])\n",
    "\n",
    "# Print results\n",
    "for i, sentence in enumerate(sentences):\n",
    "    print(f\"ประโยค {i+1}: {sentence}\")\n",
    "    print(f\"Embedding สำหรับ 'ตา' (5 มิติแรก): {embeddings[i][:5]}\")\n",
    "    print()\n",
    "\n",
    "print(\"Cosine Similarities:\")\n",
    "for i in range(len(similarities)):\n",
    "    for j in range(len(similarities)):\n",
    "        print(f\"{similarities[i][j]:.4f}\", end=\"\\t\")\n",
    "    print()\n",
    "\n",
    "# Find the most similar pair of sentences\n",
    "max_similarity = 0\n",
    "max_pair = (0, 0)\n",
    "for i in range(len(similarities)):\n",
    "    for j in range(i+1, len(similarities)):\n",
    "        if similarities[i][j] > max_similarity:\n",
    "            max_similarity = similarities[i][j]\n",
    "            max_pair = (i, j)\n",
    "\n",
    "print(f\"\\nประโยคที่มีความคล้ายคลึงกันมากที่สุด: ประโยค {max_pair[0]+1} และประโยค {max_pair[1]+1}\")\n",
    "print(f\"ค่าความคล้ายคลึง: {max_similarity:.4f}\")\n",
    "print(f\"ประโยค {max_pair[0]+1}: {sentences[max_pair[0]]}\")\n",
    "print(f\"ประโยค {max_pair[1]+1}: {sentences[max_pair[1]]}\")"
   ]
  },
  {
   "cell_type": "code",
   "execution_count": null,
   "id": "658dc65d-0e08-4876-8923-db40cd51d7a9",
   "metadata": {},
   "outputs": [],
   "source": []
  }
 ],
 "metadata": {
  "kernelspec": {
   "display_name": "Python 3 (ipykernel)",
   "language": "python",
   "name": "python3"
  },
  "language_info": {
   "codemirror_mode": {
    "name": "ipython",
    "version": 3
   },
   "file_extension": ".py",
   "mimetype": "text/x-python",
   "name": "python",
   "nbconvert_exporter": "python",
   "pygments_lexer": "ipython3",
   "version": "3.10.12"
  }
 },
 "nbformat": 4,
 "nbformat_minor": 5
}
