{
 "cells": [
  {
   "cell_type": "code",
   "execution_count": 1,
   "id": "a534fc18-f64c-4519-b5cb-3bdc105edc82",
   "metadata": {},
   "outputs": [],
   "source": [
    "question = \"ขับรถชนแล้วหนี มีโทษอะไร\"\n",
    "set_index = \"hybrid_pdf_index\""
   ]
  },
  {
   "cell_type": "code",
   "execution_count": 2,
   "id": "03c8ab46-e446-4ff8-b1a7-0e93c15f3dc8",
   "metadata": {},
   "outputs": [
    {
     "name": "stdout",
     "output_type": "stream",
     "text": [
      "cpu\n"
     ]
    }
   ],
   "source": [
    "import torch\n",
    "device = torch.device(\"cuda\") if torch.cuda.is_available() else torch.device(\"cpu\")\n",
    "print(device)"
   ]
  },
  {
   "cell_type": "code",
   "execution_count": 3,
   "id": "f2c3f828-3533-4e40-aa71-431d19715cdb",
   "metadata": {},
   "outputs": [],
   "source": [
    "from llama_index.embeddings.huggingface import HuggingFaceEmbedding\n",
    "embedding_model_name = 'BAAI/bge-m3'\n",
    "embed_model = HuggingFaceEmbedding(model_name=embedding_model_name,max_length=512, device=device)"
   ]
  },
  {
   "cell_type": "raw",
   "id": "e8e92a3f-dc01-4fe9-9e70-29d2c4a72fb9",
   "metadata": {},
   "source": [
    "embeddings = embed_model.get_text_embedding(\"box\")\n",
    "dim = len(embeddings)"
   ]
  },
  {
   "cell_type": "raw",
   "id": "8b6796b9-fffc-44c9-92ef-b15599f202f2",
   "metadata": {},
   "source": [
    "dim"
   ]
  },
  {
   "cell_type": "code",
   "execution_count": 4,
   "id": "210b3f01-e112-42b5-9074-00cff25fb83a",
   "metadata": {},
   "outputs": [],
   "source": [
    "import nest_asyncio\n",
    "nest_asyncio.apply()"
   ]
  },
  {
   "cell_type": "code",
   "execution_count": 5,
   "id": "b2b7e03f-e38a-45fd-8dc3-b3c5ac4718a0",
   "metadata": {},
   "outputs": [],
   "source": [
    "dim = 1024"
   ]
  },
  {
   "cell_type": "code",
   "execution_count": 6,
   "id": "13f83d74-cdbd-45e1-b1c2-ccb2beb1acd3",
   "metadata": {},
   "outputs": [],
   "source": [
    "from os import getenv\n",
    "from llama_index.vector_stores.opensearch import (\n",
    "    OpensearchVectorStore,\n",
    "    OpensearchVectorClient,\n",
    ")\n",
    "\n",
    "# http endpoint for your cluster (opensearch required for vector index usage)\n",
    "endpoint = getenv(\"OPENSEARCH_ENDPOINT\", \"http://localhost:9200\")\n",
    "# index to demonstrate the VectorStore impl\n",
    "idx = getenv(\"OPENSEARCH_INDEX\", set_index)\n",
    "\n",
    "# OpensearchVectorClient stores text in this field by default\n",
    "text_field = \"content\"\n",
    "# OpensearchVectorClient stores embeddings in this field by default\n",
    "embedding_field = \"embedding\"\n",
    "# OpensearchVectorClient encapsulates logic for a\n",
    "# single opensearch index with vector search enabled with hybrid search pipeline\n",
    "client = OpensearchVectorClient(\n",
    "    endpoint=endpoint,\n",
    "    index=idx,\n",
    "    dim=dim,\n",
    "    embedding_field=embedding_field,\n",
    "    text_field=text_field,\n",
    "    search_pipeline=\"hybrid-search-pipeline\",\n",
    ")\n",
    "\n",
    "# initialize vector store\n",
    "vector_store = OpensearchVectorStore(client)"
   ]
  },
  {
   "cell_type": "code",
   "execution_count": 7,
   "id": "adebd086-3348-4b66-960b-140817714592",
   "metadata": {},
   "outputs": [
    {
     "data": {
      "text/plain": [
       "'hybrid_pdf_index'"
      ]
     },
     "execution_count": 7,
     "metadata": {},
     "output_type": "execute_result"
    }
   ],
   "source": [
    "idx"
   ]
  },
  {
   "cell_type": "code",
   "execution_count": 8,
   "id": "7c27fb6c-9edb-487e-b5da-399f4d0686bf",
   "metadata": {},
   "outputs": [
    {
     "name": "stdout",
     "output_type": "stream",
     "text": [
      "LLM is explicitly disabled. Using MockLLM.\n"
     ]
    }
   ],
   "source": [
    "from llama_index.core import Settings\n",
    "\n",
    "Settings.llm = None\n",
    "Settings.embed_model = embed_model"
   ]
  },
  {
   "cell_type": "code",
   "execution_count": 9,
   "id": "5973d886-28a1-4ab9-8843-a7a8af6be44e",
   "metadata": {},
   "outputs": [],
   "source": [
    "from llama_index.vector_stores.opensearch import OpensearchVectorStore\n",
    "from llama_index.core import VectorStoreIndex, StorageContext\n",
    "from llama_index.core import Settings\n",
    "from llama_index.core.indices.prompt_helper import PromptHelper\n",
    "\n",
    "# สร้าง storage context\n",
    "storage_context = StorageContext.from_defaults(vector_store=vector_store)\n",
    "\n",
    "# สร้าง index โดยไม่ต้องใช้ prompt_helper ที่กำหนดเอง\n",
    "index = VectorStoreIndex.from_vector_store(\n",
    "    vector_store,\n",
    "    storage_context=storage_context,\n",
    ")"
   ]
  },
  {
   "cell_type": "code",
   "execution_count": 10,
   "id": "97547ee7-8603-4e4f-a7b1-72bdc22a7ee9",
   "metadata": {},
   "outputs": [],
   "source": [
    "#! curl -XGET http://localhost:9200/doc_hybrid_pdf_index/_mapping | jq ."
   ]
  },
  {
   "cell_type": "code",
   "execution_count": 11,
   "id": "03b3c190-2545-4fe9-8b40-977c3018eca7",
   "metadata": {},
   "outputs": [
    {
     "name": "stdout",
     "output_type": "stream",
     "text": [
      "{'page_label': '8', 'file_name': 'article_20160531140556.pdf', 'file_path': '/Users/grizzlystudio/RAG-with-Ollama/pdfs/article_20160531140556.pdf', 'file_type': 'application/pdf', 'file_size': 301354, 'creation_date': '2024-07-29', 'last_modified_date': '2024-07-28'}\n",
      "Node ID: 86962834-aa22-4175-a6a8-5c6462d1c7d4\n",
      "Text: ข้อหา หนึ่งรวมเป็น ๒ ข้อหา ความผิดฐานชนแล้วหนีมีหลักเกณฑ์ดังนี้\n",
      "เมื่อขับรถหรือขี่หรือควบคุมสัตว์แล้วไปท าให้\n",
      "เกิดความเสียหายแก่บุคคลหรือทรัพย์สินของผู้อื่น\n",
      "ไม่ว่าจะเป็นความผิดของตนหรือไม่ก็ตามต้องปฏิบัติดังนี้   -\n",
      "ต้องหยุดรถหรือสัตว์และให้ความช่วยเหลือตามสมควรทันที   -\n",
      "แสดงตัวและแจ้งเหตุต่อพนักงานเจ้าหน้าที่ใกล้เคียงทันที    -\n",
      "ต้องแจ้งชื่อตัว ช...\n",
      "Score:  1.000\n",
      "\n",
      "{'page_label': '8', 'file_name': 'article_20160531140556.pdf', 'file_path': '/Users/grizzlystudio/RAG-with-Ollama/pdfs/article_20160531140556.pdf', 'file_type': 'application/pdf', 'file_size': 301354, 'creation_date': '2024-07-29', 'last_modified_date': '2024-07-28'}\n",
      "Node ID: 465c654b-4d12-4c77-807a-319699adc222\n",
      "Text: ๘    ตั้งแต่ ๒,๐๐๐  บาท ถึง ๑๐,๐๐๐  บาท หรือทั้งจ าทั้งปรับ\n",
      "และให้ศาลสั่งพักใช้ใบอนุญาตขับขี่ของผู้นั้นมี ก าหนดไม่น้อยกว่า ๑\n",
      "เดือน หรือเพิกถอนใบอนุญาตขับขี่                   ๙. กรณีชนแล้วหนี\n",
      "กฎหมายบัญญัติให้เป็นความผิดพิเศษเพิ่มขึ้นอีกกระทงหนึ่งต่างหากกล่าวคือ\n",
      "ถ้าผู้ขับรถ   โดยประมาทชนคนตายแล้วหลบหนี ผู้นั้นจะต้องรับโทษ ๒ ข้อหา\n",
      "คือ จะต้องรับ...\n",
      "Score:  0.977\n",
      "\n",
      "{'page_label': '8', 'file_name': 'article_20160531140556.pdf', 'file_path': '/Users/grizzlystudio/RAG-with-Ollama/pdfs/article_20160531140556.pdf', 'file_type': 'application/pdf', 'file_size': 301354, 'creation_date': '2024-07-29', 'last_modified_date': '2024-07-28'}\n",
      "Node ID: 75a83b35-b60c-49bf-b4d8-7090e620d33e\n",
      "Text: ผู้ใดไม่ปฏิบัติตามต้องระวางโทษจ าคุกไม่เกิน ๓ เดือน\n",
      "หรือปรับตั้งแต่ ๒,๐๐๐  บาท ถึง ๑๐,๐๐๐  บาท หรือทั้งจ าทั้งปรับ\n",
      "และถ้าเป็นกรณีที่บุคคลอื่นได้รับอันตราย สาหัสถึงตาย\n",
      "ต้องระวางโทษสูงขึ้น คือ  จ าคุกไม่เกิน ๖ เดือน หรือปรับตั้งแต่ ๕,๐๐๐\n",
      "บาท ถึง ๒๐,๐๐๐  บาท  หรือทั้งจ าทั้งปรับ   ๑๐. คนเดินเท้า   ๑.\n",
      "ทางใดที่มีทางเท้าหรือไหล่ทางอยู่ข้างทางเดินรถ ...\n",
      "Score:  0.001\n",
      "\n"
     ]
    }
   ],
   "source": [
    "from llama_index.core.vector_stores.types import VectorStoreQueryMode\n",
    "retriever = index.as_retriever(similarity_top_k=3,vector_store_query_mode=VectorStoreQueryMode.HYBRID)\n",
    "text_retriveve = question\n",
    "prompt = retriever.retrieve(text_retriveve)\n",
    "for r in prompt:\n",
    "    print(r.metadata)\n",
    "    print(r)"
   ]
  },
  {
   "cell_type": "code",
   "execution_count": 12,
   "id": "5921e307-2be9-493d-ae25-636660bc47de",
   "metadata": {},
   "outputs": [],
   "source": [
    "from llama_index.core.vector_stores.types import VectorStoreQueryMode\n",
    "\n",
    "query_enging = index.as_query_engine(vector_store_query_mode=VectorStoreQueryMode.HYBRID)"
   ]
  },
  {
   "cell_type": "code",
   "execution_count": 13,
   "id": "a98f11f6-5fb6-4652-8fb0-e5cdf0e3b844",
   "metadata": {},
   "outputs": [
    {
     "name": "stdout",
     "output_type": "stream",
     "text": [
      "Context information is below.\n",
      "---------------------\n",
      "page_label: 8\n",
      "file_path: /Users/grizzlystudio/RAG-with-Ollama/pdfs/article_20160531140556.pdf\n",
      "\n",
      "ข้อหา\n",
      "หนึ่งรวมเป็น ๒ ข้อหา ความผิดฐานชนแล้วหนีมีหลักเกณฑ์ดังนี้  เมื่อขับรถหรือขี่หรือควบคุมสัตว์แล้วไปท าให้\n",
      "เกิดความเสียหายแก่บุคคลหรือทรัพย์สินของผู้อื่น ไม่ว่าจะเป็นความผิดของตนหรือไม่ก็ตามต้องปฏิบัติดังนี้  \n",
      "- ต้องหยุดรถหรือสัตว์และให้ความช่วยเหลือตามสมควรทันที  \n",
      "- แสดงตัวและแจ้งเหตุต่อพนักงานเจ้าหน้าที่ใกล้เคียงทันที  \n",
      " - ต้องแจ้งชื่อตัว ชื่อสกุล และที่อยู่ของตน และเลขหมายทะเบียนรถแก่ผู้เสียหายด้วย  \n",
      "ถ้าผู้ขับขี่หรือขี่รถควบคุมสัตว์หลบหนีไป กฎหมายให้สันนิฐานว่าเป็นผู้กระท าความผิดและ\n",
      "พนักงานเจ้าหน้าที่มีอ\n",
      "\n",
      "page_label: 8\n",
      "file_path: /Users/grizzlystudio/RAG-with-Ollama/pdfs/article_20160531140556.pdf\n",
      "\n",
      "๘ \n",
      " \n",
      "ตั้งแต่ ๒,๐๐๐  บาท ถึง ๑๐,๐๐๐  บาท หรือทั้งจ าทั้งปรับ และให้ศาลสั่งพักใช้ใบอนุญาตขับขี่ของผู้นั้นมี\n",
      "ก าหนดไม่น้อยกว่า ๑ เดือน หรือเพิกถอนใบอนุญาตขับขี่  \n",
      "                ๙. กรณีชนแล้วหนี  \n",
      "กฎหมายบัญญัติให้เป็นความผิดพิเศษเพิ่มขึ้นอีกกระทงหนึ่งต่างหากกล่าวคือ ถ้าผู้ขับรถ  \n",
      "โดยประมาทชนคนตายแล้วหลบหนี ผู้นั้นจะต้องรับโทษ ๒ ข้อหา คือ จะต้องรับโทษฐานชนแล้วหนีอีก ข้อหา\n",
      "หนึ่งรวมเป็น ๒ ข้อหา ความผิดฐานชนแล้วหนีมีหลักเกณฑ์ดังนี้  เมื่อขับรถหรือขี่หรือควบคุมสัตว์แล้วไปท\n",
      "---------------------\n",
      "Given the context information and not prior knowledge, answer the query.\n",
      "Query: ขับรถชนแล้วหนี มีโทษอะไร\n",
      "Answer: \n"
     ]
    }
   ],
   "source": [
    "response_ = query_enging.query(question)\n",
    "print(response_.response)"
   ]
  },
  {
   "cell_type": "code",
   "execution_count": 14,
   "id": "940b2ae9-832d-4d00-a73d-b62e0ac1086c",
   "metadata": {},
   "outputs": [],
   "source": [
    "prompt = prompt=response_.response"
   ]
  },
  {
   "cell_type": "code",
   "execution_count": 15,
   "id": "4772b5d2-90f6-4611-abfa-058ce8714b1f",
   "metadata": {},
   "outputs": [
    {
     "data": {
      "text/plain": [
       "<Response [200]>"
      ]
     },
     "execution_count": 15,
     "metadata": {},
     "output_type": "execute_result"
    }
   ],
   "source": [
    "import json\n",
    "import requests\n",
    "url ='http://localhost:11434/api/generate'\n",
    "payload = json.dumps({\n",
    "    \"model\": \"openthaigpt\",\n",
    "    \"stream\": False,\n",
    "    \"prompt\": f'''<s>[INST] <<SYS>>\n",
    "        You are a question answering assistant. Answer the question as truthful and helpful as possible\n",
    "        คุณคือผู้ช่วยตอบคำถาม จงตอบคำถามอย่างถูกต้องและมีประโยชน์ที่สุด\n",
    "        <</SYS>>\n",
    "\n",
    "        Answer the question based only on the following context:\n",
    "        {prompt}\n",
    "\n",
    "        [/INST]''',\n",
    "})\n",
    "headers = {\n",
    "'Content-Type': 'application/json'\n",
    "}\n",
    "response = requests.request(\"POST\", url, headers=headers, data=payload)\n",
    "response"
   ]
  },
  {
   "cell_type": "code",
   "execution_count": 16,
   "id": "42f4b3a6-dbd6-4257-babd-c128cb2b5700",
   "metadata": {},
   "outputs": [
    {
     "name": "stdout",
     "output_type": "stream",
     "text": [
      "ไม่ว่าจะเกิดจากความผิดพลาดหรือละเลยไม่ยอมหยุดให้ความช่วยเหลือก็ตาม หากผู้ขับขี่หรือคนขับรถเกิดหลบหนีไป ก็จะได้รับผลในทางกฎหมายสำหรับความผิดฐาน \"ขับรถชนแล้วหนี\" ซึ่งตามกฎหมายมีหลักเกณฑ์ในการลงโทษอยู่ 2 ข้อ กล่าวคือ \n",
      "                **ข้อ 1. ข้อหาทำร้ายร่างกาย** ผู้ขับขี่จะโดนตั้งข้อหาว่าทำร้ายผู้บาดเจ็บสาหัส ตามกฎหมายอาญา มาตรา 340 ต้องระวางโทษจำคุกสูงสุด 5 ปี และปรับไม่เกิน 10,000 บาท \n",
      "                **ข้อ 2. ข้อหาหลบหนี** เมื่อมีการขับรถชนแล้วหนี ผู้ขับขี่จะต้องระวางโทษฐานกระทำการโดยประมาทตามประมวลกฎหมายอาญา มาตรา 396 ต้องระวางโทษจำคุกสูงสุด 18 เดือน และปรับไม่เกิน 5,000 บาท ซึ่งบทลงโทษนี้อาจนำไปประกอบกับมาตรา 297 และ 342 จะไม่ได้รับอนุญาตให้กระทำในระหว่างที่มีการประกันตัว หรือได้รับการปล่อยตัวชั่วคราว หรือไม่ได้ถูกจำคุกในคดีอาญาอื่น และในกรณีที่ผู้ขับขี่มีใบอนุญาตขับขี่หรือได้รับใบอนุญาตขับขี่แล้ว จะไม่ได้รับอนุญาตให้ใช้ใบอนุญาตนั้นตลอดชีวิต หากศาลตัดสินว่ามีความผิด \n",
      "นอกจากนี้ ผู้ขับขี่จะต้องชดใช้ค่าสินไหมทดแทนให้แก่ผู้บาดเจ็บด้วย\n"
     ]
    }
   ],
   "source": [
    "if response.status_code == 200:\n",
    "    response_text = response.text\n",
    "    data = json.loads(response_text)\n",
    "    actual_response = data[\"response\"]\n",
    "    print(actual_response)\n",
    "else:\n",
    "    print(\"Error:\",response.status_code,response.text)"
   ]
  },
  {
   "cell_type": "code",
   "execution_count": 17,
   "id": "f39b4d7b-beb7-407a-b95f-1b7061bac57a",
   "metadata": {},
   "outputs": [],
   "source": [
    "payload = f'''<s>[INST] <<SYS>>\n",
    "        You are a question answering assistant. Answer the question as truthful and helpful as possible\n",
    "        คุณคือผู้ช่วยตอบคำถาม จงตอบคำถามอย่างถูกต้องและมีประโยชน์ที่สุด\n",
    "        <</SYS>>\n",
    "\n",
    "        Answer the question based only on the following context:\n",
    "        {prompt}\n",
    "\n",
    "        [/INST]'''"
   ]
  },
  {
   "cell_type": "code",
   "execution_count": 18,
   "id": "013c8e75-3502-4087-962f-38b8e214699a",
   "metadata": {},
   "outputs": [
    {
     "name": "stdout",
     "output_type": "stream",
     "text": [
      "จากบริบทที่ให้มา กฎหมายคุ้มครองผู้บาดเจ็บจากการขับรถ โดยระบุว่า \"เมื่อขับรถหรือขี่หรือควบคุมสัตว์แล้วไปทำให้\n",
      "เกิดความเสียหายแก่บุคคลหรือทรัพย์สินของผู้อื่น ไม่ว่าจะเป็นความผิดของตนหรือไม่ก็ตามต้องปฏิบัติดังนี้\" ซึ่งหมายความว่าตามกฎหมาย ผู้ขับขี่จะต้องหยุดรถ/ควบคุมสัตว์ของตนเองหากทำให้บุคคลหรือทรัพย์สินของผู้อื่นเสียหาย เพื่อช่วยเหลือผู้บาดเจ็บและแจ้งเหตุไปยังเจ้าหน้าที่ตำรวจ ดังนั้น จากบริบทนี้ จึงสรุปได้ว่า \"เมื่อขับรถหรือขี่หรือควบคุมสัตว์แล้วไปทำให้\n",
      "เกิดความเสียหายแก่บุคคลหรือทรัพย์สินของผู้อื่น ไม่ว่าจะเป็นความผิดของตนหรือไม่ก็ตามต้องปฏิบัติดังนี้\" ดังนั้น เมื่อขับรถชนแล้วหนี โดยทำให้บุคคลหรือทรัพย์สินของผู้อื่นเสียหาย ผู้ขับขี่จะต้องหยุดรถ/ควบคุมสัตว์และช่วยเหลือผู้บาดเจ็บ รวมถึงแจ้งเหตุไปยังเจ้าหน้าที่ตำรวจ ดังนั้นคำตอบที่ถูกต้องคือ 2. มีโทษฐานชนแล้วหนี"
     ]
    }
   ],
   "source": [
    "import ollama\n",
    "from ollama import Client\n",
    "client = Client(host='http://localhost:11434')\n",
    "stream = ollama.generate(\n",
    "    model='openthaigpt',\n",
    "    prompt=payload,\n",
    "    stream=True,\n",
    ")\n",
    "for chunk in stream:\n",
    "  print(chunk['response'], end='', flush=True)"
   ]
  },
  {
   "cell_type": "code",
   "execution_count": null,
   "id": "31e0bca5-03b5-4aa7-9030-add5e043843f",
   "metadata": {},
   "outputs": [],
   "source": []
  },
  {
   "cell_type": "code",
   "execution_count": null,
   "id": "438295ef-0edf-427f-b17b-e95261e3436c",
   "metadata": {},
   "outputs": [],
   "source": []
  },
  {
   "cell_type": "code",
   "execution_count": null,
   "id": "d7f26abb-1b50-43d4-8a60-a126b6e4be54",
   "metadata": {},
   "outputs": [],
   "source": []
  },
  {
   "cell_type": "code",
   "execution_count": null,
   "id": "e5a6a11c-e2cb-4ec3-aa24-1e711dcfa39e",
   "metadata": {},
   "outputs": [],
   "source": []
  },
  {
   "cell_type": "code",
   "execution_count": null,
   "id": "f027865c-3543-450e-8ca6-18b7887a84bf",
   "metadata": {},
   "outputs": [],
   "source": []
  },
  {
   "cell_type": "code",
   "execution_count": null,
   "id": "649c7706-9f4a-46f6-9b1b-25c9ffbd75fd",
   "metadata": {},
   "outputs": [],
   "source": []
  },
  {
   "cell_type": "code",
   "execution_count": null,
   "id": "a88f936a-3b5d-4739-b5e4-793e18383288",
   "metadata": {},
   "outputs": [],
   "source": []
  },
  {
   "cell_type": "code",
   "execution_count": null,
   "id": "e55a55be-49b9-4d0f-8915-12b70baa763d",
   "metadata": {},
   "outputs": [],
   "source": []
  },
  {
   "cell_type": "code",
   "execution_count": null,
   "id": "bedd1e41-e7db-498b-8807-00dc285a1aca",
   "metadata": {},
   "outputs": [],
   "source": []
  },
  {
   "cell_type": "code",
   "execution_count": null,
   "id": "909311ba-0251-42b8-815c-421669bdc0f3",
   "metadata": {},
   "outputs": [],
   "source": []
  }
 ],
 "metadata": {
  "kernelspec": {
   "display_name": "Python 3 (ipykernel)",
   "language": "python",
   "name": "python3"
  },
  "language_info": {
   "codemirror_mode": {
    "name": "ipython",
    "version": 3
   },
   "file_extension": ".py",
   "mimetype": "text/x-python",
   "name": "python",
   "nbconvert_exporter": "python",
   "pygments_lexer": "ipython3",
   "version": "3.10.12"
  }
 },
 "nbformat": 4,
 "nbformat_minor": 5
}
